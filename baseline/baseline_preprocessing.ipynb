{
 "cells": [
  {
   "cell_type": "code",
   "execution_count": 3,
   "metadata": {},
   "outputs": [],
   "source": [
    "import nltk\n",
    "import nltk.sentiment\n",
    "import numpy as np\n",
    "import json\n",
    "import pickle\n",
    "import timeit\n",
    "from sklearn.feature_extraction.text import CountVectorizer,TfidfVectorizer"
   ]
  },
  {
   "cell_type": "code",
   "execution_count": 4,
   "metadata": {},
   "outputs": [],
   "source": [
    "f = open(\"../stopwords_list.dat\")\n",
    "stopwords = set([word.strip().lower() for word in f.readlines()])\n",
    "f.close()"
   ]
  },
  {
   "cell_type": "code",
   "execution_count": 5,
   "metadata": {},
   "outputs": [],
   "source": [
    "devfile = \"../../A1_Data/dev.json\"\n",
    "trainfile = \"../../A1_Data/train.json\""
   ]
  },
  {
   "cell_type": "markdown",
   "metadata": {},
   "source": [
    "### Pickling baseline TFIDF Vectors"
   ]
  },
  {
   "cell_type": "code",
   "execution_count": 6,
   "metadata": {},
   "outputs": [],
   "source": [
    "vectorizer = TfidfVectorizer(tokenizer=nltk.word_tokenize,stop_words=stopwords, min_df=5)"
   ]
  },
  {
   "cell_type": "code",
   "execution_count": 7,
   "metadata": {},
   "outputs": [],
   "source": [
    "train_data = []\n",
    "train_labels = []\n",
    "f = open(trainfile,\"r\")\n",
    "while(True):\n",
    "    s = f.readline()\n",
    "    if (s==\"\"):\n",
    "        break\n",
    "    json_dump = json.loads(s)    \n",
    "    train_data.append(json_dump[\"review\"])\n",
    "    train_labels.append(json_dump[\"ratings\"])\n",
    "f.close()"
   ]
  },
  {
   "cell_type": "code",
   "execution_count": 8,
   "metadata": {},
   "outputs": [
    {
     "name": "stdout",
     "output_type": "stream",
     "text": [
      "(1000000, 85627)\n",
      "781.949125656\n"
     ]
    }
   ],
   "source": [
    "start = timeit.default_timer()\n",
    "feature_vector = vectorizer.fit_transform(train_data)\n",
    "print(feature_vector.shape)\n",
    "print(timeit.default_timer()-start)"
   ]
  },
  {
   "cell_type": "code",
   "execution_count": 9,
   "metadata": {},
   "outputs": [],
   "source": [
    "pickle.dump(feature_vector,open(\"baseline_tfidf_train_vector.pickle\", \"wb\"))\n",
    "pickle.dump(vectorizer,open(\"baseline_vectorizer.pickle\", \"wb\"))"
   ]
  },
  {
   "cell_type": "code",
   "execution_count": 10,
   "metadata": {},
   "outputs": [],
   "source": [
    "dev_data = []\n",
    "dev_labels = []\n",
    "f = open(devfile,\"r\")\n",
    "while(True):\n",
    "    s = f.readline()\n",
    "    if (s==\"\"):\n",
    "        break\n",
    "    json_dump = json.loads(s)    \n",
    "    dev_data.append(json_dump[\"review\"])\n",
    "    dev_labels.append(json_dump[\"ratings\"])\n",
    "f.close()"
   ]
  },
  {
   "cell_type": "code",
   "execution_count": 11,
   "metadata": {},
   "outputs": [
    {
     "data": {
      "text/plain": [
       "(200000, 85627)"
      ]
     },
     "execution_count": 11,
     "metadata": {},
     "output_type": "execute_result"
    }
   ],
   "source": [
    "dev_feature_vector = vectorizer.transform(dev_data)\n",
    "dev_feature_vector.shape"
   ]
  },
  {
   "cell_type": "code",
   "execution_count": null,
   "metadata": {},
   "outputs": [],
   "source": [
    "pickle.dump(dev_feature_vector,open(\"baseline_tfidf_dev_vector.pickle\", \"wb\"))"
   ]
  }
 ],
 "metadata": {
  "kernelspec": {
   "display_name": "Python 3",
   "language": "python",
   "name": "python3"
  },
  "language_info": {
   "codemirror_mode": {
    "name": "ipython",
    "version": 3
   },
   "file_extension": ".py",
   "mimetype": "text/x-python",
   "name": "python",
   "nbconvert_exporter": "python",
   "pygments_lexer": "ipython3",
   "version": "3.6.7"
  }
 },
 "nbformat": 4,
 "nbformat_minor": 2
}
