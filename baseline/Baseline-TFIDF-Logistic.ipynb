{
 "cells": [
  {
   "cell_type": "code",
   "execution_count": 26,
   "metadata": {},
   "outputs": [],
   "source": [
    "import nltk\n",
    "import numpy as np\n",
    "import json\n",
    "import pickle\n",
    "import timeit\n",
    "from sklearn.feature_extraction.text import CountVectorizer,TfidfVectorizer\n",
    "from sklearn.metrics import confusion_matrix\n",
    "import matplotlib.pyplot as plt"
   ]
  },
  {
   "cell_type": "code",
   "execution_count": 27,
   "metadata": {},
   "outputs": [],
   "source": [
    "devfile = \"../A1_Data/dev.json\"\n",
    "trainfile = \"../A1_Data/train.json\""
   ]
  },
  {
   "cell_type": "markdown",
   "metadata": {},
   "source": [
    "### Training Phase"
   ]
  },
  {
   "cell_type": "code",
   "execution_count": 28,
   "metadata": {},
   "outputs": [],
   "source": [
    "train_labels = []\n",
    "f = open(trainfile,\"r\")\n",
    "while(True):\n",
    "    s = f.readline()\n",
    "    if (s==\"\"):\n",
    "        break\n",
    "    json_dump = json.loads(s)    \n",
    "    train_labels.append(json_dump[\"ratings\"])\n",
    "f.close()"
   ]
  },
  {
   "cell_type": "code",
   "execution_count": 39,
   "metadata": {},
   "outputs": [],
   "source": [
    "vectorizer = pickle.load(open(\"baseline_vectorizer.pickle\",\"rb\"))"
   ]
  },
  {
   "cell_type": "code",
   "execution_count": 45,
   "metadata": {},
   "outputs": [],
   "source": [
    "feature_vector = pickle.load(open(\"baseline_tfidf_train_vector.pickle\",\"rb\"))"
   ]
  },
  {
   "cell_type": "code",
   "execution_count": 41,
   "metadata": {},
   "outputs": [],
   "source": [
    "from sklearn.linear_model import LogisticRegression\n",
    "model = LogisticRegression(penalty=\"l2\", multi_class='multinomial', solver=\"saga\", max_iter=2000)"
   ]
  },
  {
   "cell_type": "code",
   "execution_count": 42,
   "metadata": {},
   "outputs": [
    {
     "name": "stdout",
     "output_type": "stream",
     "text": [
      "75.62612305199946\n"
     ]
    }
   ],
   "source": [
    "start = timeit.default_timer()\n",
    "model.fit(feature_vector, train_labels)\n",
    "print(timeit.default_timer()-start)"
   ]
  },
  {
   "cell_type": "code",
   "execution_count": 43,
   "metadata": {},
   "outputs": [],
   "source": [
    "pickle.dump(model,open(\"baseline_logist_model.pickle\", \"wb\"))"
   ]
  },
  {
   "cell_type": "markdown",
   "metadata": {},
   "source": [
    "### Some sanity checks"
   ]
  },
  {
   "cell_type": "code",
   "execution_count": null,
   "metadata": {},
   "outputs": [],
   "source": [
    "sanity_check = \"Excellent service. The staff is so friendly and always  willing to have conversations with their clients.\"\n",
    "check_vector = vectorizer.transform([sanity_check]).toarray()\n",
    "model.predict(check_vector)[0]"
   ]
  },
  {
   "cell_type": "code",
   "execution_count": null,
   "metadata": {},
   "outputs": [],
   "source": [
    "sanity_check = \"Dishonest, untrustworthy, flaw-hiding dealership that is an embarrassment to the brand it bears\"\n",
    "check_vector = vectorizer.transform([sanity_check]).toarray()\n",
    "model.predict(check_vector)[0]"
   ]
  },
  {
   "cell_type": "markdown",
   "metadata": {},
   "source": [
    "### Validation phase"
   ]
  },
  {
   "cell_type": "code",
   "execution_count": 34,
   "metadata": {},
   "outputs": [],
   "source": [
    "dev_feature_vector = pickle.load(open(\"baseline_tfidf_dev_vector.pickle\",\"rb\"))"
   ]
  },
  {
   "cell_type": "code",
   "execution_count": 35,
   "metadata": {},
   "outputs": [],
   "source": [
    "dev_labels = []\n",
    "dev_data = []\n",
    "f = open(devfile,\"r\")\n",
    "while(True):\n",
    "    s = f.readline()\n",
    "    if (s==\"\"):\n",
    "        break\n",
    "    json_dump = json.loads(s)    \n",
    "    dev_labels.append(json_dump[\"ratings\"])\n",
    "    dev_data.append(json_dump[\"review\"])\n",
    "f.close()"
   ]
  },
  {
   "cell_type": "code",
   "execution_count": 36,
   "metadata": {},
   "outputs": [
    {
     "data": {
      "text/plain": [
       "array([[25256,  5332,  1623,   548,   684],\n",
       "       [ 2702,  5709,  2702,   446,   136],\n",
       "       [  780,  3566,  9326,  3580,   612],\n",
       "       [  295,   914,  6528, 21862,  9940],\n",
       "       [  756,   618,  1937, 17570, 76578]])"
      ]
     },
     "execution_count": 36,
     "metadata": {},
     "output_type": "execute_result"
    }
   ],
   "source": [
    "conf_mat = np.zeros((5,5), dtype=int)\n",
    "f = open(\"error_file\",\"w\")\n",
    "for i in range(0,len(dev_labels),1000):\n",
    "    fv = dev_feature_vector[i:i+1000]\n",
    "    y_pred = model.predict(fv)\n",
    "    conf_mat+= confusion_matrix(y_pred, dev_labels[i:i+1000])\n",
    "    \n",
    "    for p in range(1000):\n",
    "        if  abs(y_pred[p]-dev_labels[i+p])>2:\n",
    "            f.write(\"Gold: %.1f, Predicted: %.1f, Review: %s\\n\"%(dev_labels[i+p], y_pred[p], dev_data[i+p].replace('\\n','\\\\n')))\n",
    "conf_mat"
   ]
  },
  {
   "cell_type": "code",
   "execution_count": 37,
   "metadata": {},
   "outputs": [
    {
     "name": "stdout",
     "output_type": "stream",
     "text": [
      "Accuracy: \t 0.693655\n",
      "Cost: \t\t 114581\n"
     ]
    }
   ],
   "source": [
    "print(\"Accuracy: \\t\",conf_mat.trace()/len(dev_data))\n",
    "score = 0\n",
    "for i in range(5):\n",
    "    for j in range(5):\n",
    "        score+=conf_mat[i][j]*((i-j)**2)\n",
    "print(\"Cost: \\t\\t\",score)"
   ]
  },
  {
   "cell_type": "code",
   "execution_count": 38,
   "metadata": {},
   "outputs": [
    {
     "data": {
      "image/png": "[encoded data removed]",
      "text/plain": [
       "<Figure size 432x288 with 2 Axes>"
      ]
     },
     "metadata": {
      "needs_background": "light"
     },
     "output_type": "display_data"
    }
   ],
   "source": [
    "fig = plt.figure()\n",
    "ax = fig.add_subplot(111)\n",
    "cax = ax.matshow(conf_mat)\n",
    "fig.colorbar(cax)\n",
    "plt.savefig(\"Conf_Mat_Baseline.jpg\")"
   ]
  }
 ],
 "metadata": {
  "kernelspec": {
   "display_name": "Python 3",
   "language": "python",
   "name": "python3"
  },
  "language_info": {
   "codemirror_mode": {
    "name": "ipython",
    "version": 3
   },
   "file_extension": ".py",
   "mimetype": "text/x-python",
   "name": "python",
   "nbconvert_exporter": "python",
   "pygments_lexer": "ipython3",
   "version": "3.6.7"
  }
 },
 "nbformat": 4,
 "nbformat_minor": 2
}
