{
 "cells": [
  {
   "cell_type": "code",
   "execution_count": 1,
   "metadata": {},
   "outputs": [],
   "source": [
    "import json\n",
    "import nltk\n",
    "import timeit\n",
    "import pickle"
   ]
  },
  {
   "cell_type": "code",
   "execution_count": 3,
   "metadata": {},
   "outputs": [],
   "source": [
    "f = open(\"stopwords_list.dat\")\n",
    "stopwords = set([word.strip().lower() for word in f.readlines()])\n",
    "f.close()"
   ]
  },
  {
   "cell_type": "code",
   "execution_count": 4,
   "metadata": {},
   "outputs": [],
   "source": [
    "devfile = \"../A1_Data/small_dev.json\"\n",
    "trainfile = \"../A1_Data/small_train.json\"\n",
    "devpickle = \"tokenised_small_dev.pickle\"\n",
    "trainpickle = \"tokenised_small_train.pickle\""
   ]
  },
  {
   "cell_type": "code",
   "execution_count": 9,
   "metadata": {},
   "outputs": [
    {
     "name": "stdout",
     "output_type": "stream",
     "text": [
      "11.460372282002936\n"
     ]
    }
   ],
   "source": [
    "f = open(devfile,\"r\")\n",
    "tokenised_list = []\n",
    "start_time = timeit.default_timer()\n",
    "while(True):\n",
    "    s = f.readline()\n",
    "    if (s==\"\"):\n",
    "        break\n",
    "    json_dump = json.loads(s)    \n",
    "    r = json_dump[\"review\"].lower()\n",
    "    r = nltk.word_tokenize(r)\n",
    "    r = [word for word in r if word not in stopwords]\n",
    "    tokenised_list.append((json_dump[\"ratings\"],r))\n",
    "print(\"tokenising dev\", timeit.default_timer() - start_time)\n",
    "f.close()"
   ]
  },
  {
   "cell_type": "code",
   "execution_count": 11,
   "metadata": {},
   "outputs": [
    {
     "name": "stdout",
     "output_type": "stream",
     "text": [
      "pickling dev 0.22221641799842473\n"
     ]
    }
   ],
   "source": [
    "start_time = timeit.default_timer()\n",
    "f = open(devpickle,\"wb\")\n",
    "pickle.dump(tokenised_list,f)\n",
    "f.close()\n",
    "print(\"pickling dev\",timeit.default_timer() - start_time)"
   ]
  },
  {
   "cell_type": "code",
   "execution_count": 7,
   "metadata": {},
   "outputs": [
    {
     "name": "stdout",
     "output_type": "stream",
     "text": [
      "57.07665412499773\n"
     ]
    }
   ],
   "source": [
    "f = open(trainfile,\"r\")\n",
    "tokenised_list = []\n",
    "start_time = timeit.default_timer()\n",
    "while(True):\n",
    "    s = f.readline()\n",
    "    if (s==\"\"):\n",
    "        break\n",
    "    json_dump = json.loads(s)    \n",
    "    r = json_dump[\"review\"]\n",
    "    r = nltk.word_tokenize(r)\n",
    "    r = [word for word in r if word not in stopwords]\n",
    "    tokenised_list.append((json_dump[\"ratings\"],r))\n",
    "print(\"tokenising train\",timeit.default_timer() - start_time)\n",
    "f.close()"
   ]
  },
  {
   "cell_type": "code",
   "execution_count": 8,
   "metadata": {},
   "outputs": [],
   "source": [
    "start_time = timeit.default_timer()\n",
    "f = open(trainpickle,\"wb\")\n",
    "pickle.dump(tokenised_list,f)\n",
    "f.close()\n",
    "print(\"pickling train\",timeit.default_timer() - start_time)"
   ]
  }
 ],
 "metadata": {
  "kernelspec": {
   "display_name": "Python 3",
   "language": "python",
   "name": "python3"
  },
  "language_info": {
   "codemirror_mode": {
    "name": "ipython",
    "version": 3
   },
   "file_extension": ".py",
   "mimetype": "text/x-python",
   "name": "python",
   "nbconvert_exporter": "python",
   "pygments_lexer": "ipython3",
   "version": "3.6.7"
  }
 },
 "nbformat": 4,
 "nbformat_minor": 2
}
