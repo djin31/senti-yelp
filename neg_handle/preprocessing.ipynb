{
 "cells": [
  {
   "cell_type": "code",
   "execution_count": 16,
   "metadata": {},
   "outputs": [],
   "source": [
    "import nltk\n",
    "import nltk.sentiment\n",
    "import numpy as np\n",
    "import json\n",
    "import pickle\n",
    "import timeit\n",
    "from sklearn.feature_extraction.text import CountVectorizer,TfidfVectorizer\n",
    "from sklearn.metrics import confusion_matrix\n",
    "import matplotlib.pyplot as plt\n",
    "import re\n",
    "import Stemmer"
   ]
  },
  {
   "cell_type": "code",
   "execution_count": 17,
   "metadata": {},
   "outputs": [],
   "source": [
    "f = open(\"../stopwords_list.dat\")\n",
    "stopwords = set([word.strip().lower() for word in f.readlines()])\n",
    "f.close()"
   ]
  },
  {
   "cell_type": "code",
   "execution_count": 18,
   "metadata": {},
   "outputs": [],
   "source": [
    "f = open(\"../spl_symbols.dat\")\n",
    "spl_symb = set([word.strip().lower() for word in f.readlines()])\n",
    "f.close()"
   ]
  },
  {
   "cell_type": "code",
   "execution_count": 19,
   "metadata": {},
   "outputs": [],
   "source": [
    "devfile = \"../../A1_Data/dev.json\"\n",
    "trainfile = \"../../A1_Data/train.json\""
   ]
  },
  {
   "cell_type": "markdown",
   "metadata": {},
   "source": [
    "### Pickling TFIDF vectors with preprocessing"
   ]
  },
  {
   "cell_type": "code",
   "execution_count": 20,
   "metadata": {},
   "outputs": [],
   "source": [
    "cap_block = re.compile('[A-Z][A-Z][A-Z]+')\n",
    "numeral = re.compile('\\d+\\.*\\d*')"
   ]
  },
  {
   "cell_type": "code",
   "execution_count": 21,
   "metadata": {},
   "outputs": [],
   "source": [
    "stemmer = Stemmer.Stemmer(\"english\")"
   ]
  },
  {
   "cell_type": "code",
   "execution_count": 22,
   "metadata": {},
   "outputs": [],
   "source": [
    "def remove_spl_symbols(word):\n",
    "    word = [char for char in word if char not in spl_symb]\n",
    "    word = \"\".join(word)\n",
    "    return word"
   ]
  },
  {
   "cell_type": "code",
   "execution_count": 23,
   "metadata": {},
   "outputs": [],
   "source": [
    "def preprocess(text):\n",
    "    # tokenize\n",
    "    text = nltk.word_tokenize(text.lower())\n",
    "    # stemming\n",
    "#     text = stemmer.stemWords(text)\n",
    "    # substitute all numbers with a common text\n",
    "#     text = [numeral.sub(\"_numeral_\",word) for word in text]\n",
    "    # remove stopwords\n",
    "    text = [word for word in text if word not in stopwords]\n",
    "    # propogate negation\n",
    "    text = nltk.sentiment.util.mark_negation(text)\n",
    "    # remove unnecessary symbols\n",
    "    text = list(map(remove_spl_symbols, text))\n",
    "    # remove punctuations ONLY after removing negation\n",
    "    text = [word for word in text if len(word)>0]\n",
    "    \n",
    "    return text"
   ]
  },
  {
   "cell_type": "code",
   "execution_count": 24,
   "metadata": {},
   "outputs": [],
   "source": [
    "vectorizer = TfidfVectorizer(tokenizer=preprocess, min_df=5, lowercase=False)"
   ]
  },
  {
   "cell_type": "code",
   "execution_count": 25,
   "metadata": {},
   "outputs": [],
   "source": [
    "train_data = []\n",
    "train_labels = []\n",
    "f = open(trainfile,\"r\")\n",
    "while(True):\n",
    "    s = f.readline()\n",
    "    if (s==\"\"):\n",
    "        break\n",
    "    json_dump = json.loads(s)    \n",
    "    train_data.append(json_dump[\"review\"])\n",
    "    train_labels.append(json_dump[\"ratings\"])\n",
    "f.close()"
   ]
  },
  {
   "cell_type": "code",
   "execution_count": 26,
   "metadata": {},
   "outputs": [
    {
     "name": "stdout",
     "output_type": "stream",
     "text": [
      "(1000000, 102571)\n",
      "1347.5373080269983\n"
     ]
    }
   ],
   "source": [
    "start = timeit.default_timer()\n",
    "feature_vector = vectorizer.fit_transform(train_data)\n",
    "print(feature_vector.shape)\n",
    "print(timeit.default_timer()-start)"
   ]
  },
  {
   "cell_type": "code",
   "execution_count": 27,
   "metadata": {},
   "outputs": [],
   "source": [
    "pickle.dump(feature_vector,open(\"neg_tfidf_train_vector.pickle\", \"wb\"))\n",
    "pickle.dump(vectorizer,open(\"neg_vectorizer.pickle\", \"wb\"))"
   ]
  },
  {
   "cell_type": "code",
   "execution_count": 28,
   "metadata": {},
   "outputs": [],
   "source": [
    "dev_data = []\n",
    "dev_labels = []\n",
    "f = open(devfile,\"r\")\n",
    "while(True):\n",
    "    s = f.readline()\n",
    "    if (s==\"\"):\n",
    "        break\n",
    "    json_dump = json.loads(s)    \n",
    "    dev_data.append(json_dump[\"review\"])\n",
    "    dev_labels.append(json_dump[\"ratings\"])\n",
    "f.close()"
   ]
  },
  {
   "cell_type": "code",
   "execution_count": 29,
   "metadata": {},
   "outputs": [
    {
     "data": {
      "text/plain": [
       "(200000, 102571)"
      ]
     },
     "execution_count": 29,
     "metadata": {},
     "output_type": "execute_result"
    }
   ],
   "source": [
    "dev_feature_vector = vectorizer.transform(dev_data)\n",
    "dev_feature_vector.shape"
   ]
  },
  {
   "cell_type": "code",
   "execution_count": 30,
   "metadata": {},
   "outputs": [],
   "source": [
    "pickle.dump(dev_feature_vector,open(\"neg_tfidf_dev_vector.pickle\", \"wb\"))"
   ]
  },
  {
   "cell_type": "code",
   "execution_count": 31,
   "metadata": {},
   "outputs": [],
   "source": [
    "del train_data\n",
    "del dev_data"
   ]
  },
  {
   "cell_type": "code",
   "execution_count": 32,
   "metadata": {},
   "outputs": [],
   "source": [
    "v = pickle.load(open(\"neg_vectorizer.pickle\",\"rb\"))"
   ]
  },
  {
   "cell_type": "code",
   "execution_count": 20,
   "metadata": {},
   "outputs": [],
   "source": [
    "f = open(\"feature_names.txt\",\"w\")\n",
    "for i in v.get_feature_names():\n",
    "    f.write(i+\"\\n\")"
   ]
  }
 ],
 "metadata": {
  "kernelspec": {
   "display_name": "Python 3",
   "language": "python",
   "name": "python3"
  },
  "language_info": {
   "codemirror_mode": {
    "name": "ipython",
    "version": 3
   },
   "file_extension": ".py",
   "mimetype": "text/x-python",
   "name": "python",
   "nbconvert_exporter": "python",
   "pygments_lexer": "ipython3",
   "version": "3.6.7"
  }
 },
 "nbformat": 4,
 "nbformat_minor": 2
}
