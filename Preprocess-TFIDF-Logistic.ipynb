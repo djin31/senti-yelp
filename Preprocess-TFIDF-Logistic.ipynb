{
 "cells": [
  {
   "cell_type": "code",
   "execution_count": 83,
   "metadata": {},
   "outputs": [],
   "source": [
    "import nltk\n",
    "import nltk.sentiment\n",
    "import numpy as np\n",
    "import json\n",
    "import pickle\n",
    "import timeit\n",
    "from sklearn.feature_extraction.text import CountVectorizer,TfidfVectorizer\n",
    "from sklearn.metrics import confusion_matrix\n",
    "import matplotlib.pyplot as plt\n",
    "import re"
   ]
  },
  {
   "cell_type": "code",
   "execution_count": 7,
   "metadata": {},
   "outputs": [],
   "source": [
    "f = open(\"stopwords_list.dat\")\n",
    "stopwords = set([word.strip().lower() for word in f.readlines()])\n",
    "f.close()"
   ]
  },
  {
   "cell_type": "code",
   "execution_count": 8,
   "metadata": {},
   "outputs": [],
   "source": [
    "devfile = \"../A1_Data/dev.json\"\n",
    "trainfile = \"../A1_Data/train.json\""
   ]
  },
  {
   "cell_type": "markdown",
   "metadata": {},
   "source": [
    "### Pickling TFIDF vectors with preprocessing"
   ]
  },
  {
   "cell_type": "code",
   "execution_count": 62,
   "metadata": {},
   "outputs": [],
   "source": [
    "cap_block = re.compile('[A-Z][A-Z][A-Z]+')\n",
    "money = re.compile('-?\\$\\d+\\.*\\d*')\n",
    "numeral = re.compile('-?\\d+\\.*\\d*')"
   ]
  },
  {
   "cell_type": "code",
   "execution_count": 63,
   "metadata": {},
   "outputs": [],
   "source": [
    "def preprocess(text):\n",
    "    # tokenize\n",
    "    text = nltk.word_tokenize(text.lower())\n",
    "    # remove stopwords\n",
    "    text = [word for word in text if word not in stopwords]\n",
    "    # propogate negation\n",
    "    text = nltk.sentiment.util.mark_negation(text)\n",
    "    # remove punctuations ONLY after removing negation\n",
    "    text = [word for word in text if word not in [\".\",\"?\",\",\"]]\n",
    "    return text + [\"CAP_BLOCK\"]*cap_block_found"
   ]
  },
  {
   "cell_type": "code",
   "execution_count": 64,
   "metadata": {},
   "outputs": [],
   "source": [
    "vectorizer = TfidfVectorizer(tokenizer=preprocess, min_df=5, lowercase=False)"
   ]
  },
  {
   "cell_type": "code",
   "execution_count": 65,
   "metadata": {},
   "outputs": [],
   "source": [
    "train_data = []\n",
    "train_labels = []\n",
    "f = open(trainfile,\"r\")\n",
    "while(True):\n",
    "    s = f.readline()\n",
    "    if (s==\"\"):\n",
    "        break\n",
    "    json_dump = json.loads(s)    \n",
    "    train_data.append(json_dump[\"review\"])\n",
    "    train_labels.append(json_dump[\"ratings\"])\n",
    "f.close()"
   ]
  },
  {
   "cell_type": "code",
   "execution_count": 66,
   "metadata": {},
   "outputs": [
    {
     "name": "stdout",
     "output_type": "stream",
     "text": [
      "(1000000, 110770)\n",
      "840.041870815\n"
     ]
    }
   ],
   "source": [
    "start = timeit.default_timer()\n",
    "feature_vector = vectorizer.fit_transform(train_data)\n",
    "print(feature_vector.shape)\n",
    "print(timeit.default_timer()-start)"
   ]
  },
  {
   "cell_type": "code",
   "execution_count": 67,
   "metadata": {},
   "outputs": [],
   "source": [
    "pickle.dump(feature_vector,open(\"preproc_tfidf_train_vector.pickle\", \"wb\"))\n",
    "pickle.dump(vectorizer,open(\"preproc_vectorizer.pickle\", \"wb\"))"
   ]
  },
  {
   "cell_type": "code",
   "execution_count": 68,
   "metadata": {},
   "outputs": [],
   "source": [
    "dev_data = []\n",
    "dev_labels = []\n",
    "f = open(devfile,\"r\")\n",
    "while(True):\n",
    "    s = f.readline()\n",
    "    if (s==\"\"):\n",
    "        break\n",
    "    json_dump = json.loads(s)    \n",
    "    dev_data.append(json_dump[\"review\"])\n",
    "    dev_labels.append(json_dump[\"ratings\"])\n",
    "f.close()"
   ]
  },
  {
   "cell_type": "code",
   "execution_count": 69,
   "metadata": {},
   "outputs": [
    {
     "data": {
      "text/plain": [
       "(200000, 110770)"
      ]
     },
     "execution_count": 69,
     "metadata": {},
     "output_type": "execute_result"
    }
   ],
   "source": [
    "dev_feature_vector = vectorizer.transform(dev_data)\n",
    "dev_feature_vector.shape"
   ]
  },
  {
   "cell_type": "code",
   "execution_count": 70,
   "metadata": {},
   "outputs": [],
   "source": [
    "pickle.dump(dev_feature_vector,open(\"preproc_tfidf_dev_vector.pickle\", \"wb\"))"
   ]
  },
  {
   "cell_type": "code",
   "execution_count": 71,
   "metadata": {},
   "outputs": [],
   "source": [
    "del train_data\n",
    "del dev_data"
   ]
  },
  {
   "cell_type": "markdown",
   "metadata": {},
   "source": [
    "### Train Model"
   ]
  },
  {
   "cell_type": "code",
   "execution_count": 72,
   "metadata": {},
   "outputs": [],
   "source": [
    "feature_vector = pickle.load(open(\"preproc_tfidf_train_vector.pickle\",\"rb\"))"
   ]
  },
  {
   "cell_type": "code",
   "execution_count": 73,
   "metadata": {},
   "outputs": [],
   "source": [
    "train_labels = []\n",
    "f = open(trainfile,\"r\")\n",
    "while(True):\n",
    "    s = f.readline()\n",
    "    if (s==\"\"):\n",
    "        break\n",
    "    json_dump = json.loads(s)    \n",
    "    train_labels.append(json_dump[\"ratings\"])\n",
    "f.close()"
   ]
  },
  {
   "cell_type": "code",
   "execution_count": 74,
   "metadata": {},
   "outputs": [],
   "source": [
    "from sklearn.linear_model import LogisticRegression\n",
    "model = LogisticRegression(penalty=\"l2\", multi_class='multinomial', solver=\"saga\", max_iter=1000)"
   ]
  },
  {
   "cell_type": "code",
   "execution_count": 75,
   "metadata": {},
   "outputs": [
    {
     "name": "stdout",
     "output_type": "stream",
     "text": [
      "142.23007356200014\n"
     ]
    }
   ],
   "source": [
    "start = timeit.default_timer()\n",
    "model.fit(feature_vector, train_labels)\n",
    "print(timeit.default_timer()-start)"
   ]
  },
  {
   "cell_type": "code",
   "execution_count": 76,
   "metadata": {},
   "outputs": [],
   "source": [
    "pickle.dump(model,open(\"preproc_logist_model.pickle\", \"wb\"))"
   ]
  },
  {
   "cell_type": "markdown",
   "metadata": {},
   "source": [
    "### Validation phase"
   ]
  },
  {
   "cell_type": "code",
   "execution_count": 80,
   "metadata": {},
   "outputs": [],
   "source": [
    "dev_feature_vector = pickle.load(open(\"preproc_tfidf_dev_vector.pickle\",\"rb\"))"
   ]
  },
  {
   "cell_type": "code",
   "execution_count": 81,
   "metadata": {},
   "outputs": [],
   "source": [
    "dev_labels = []\n",
    "dev_data = []\n",
    "f = open(devfile,\"r\")\n",
    "while(True):\n",
    "    s = f.readline()\n",
    "    if (s==\"\"):\n",
    "        break\n",
    "    json_dump = json.loads(s)    \n",
    "    dev_labels.append(json_dump[\"ratings\"])\n",
    "    dev_data.append(json_dump[\"review\"])\n",
    "f.close()"
   ]
  },
  {
   "cell_type": "code",
   "execution_count": 84,
   "metadata": {},
   "outputs": [
    {
     "data": {
      "text/plain": [
       "array([[25215,  5337,  1622,   541,   680],\n",
       "       [ 2715,  5703,  2719,   446,   141],\n",
       "       [  788,  3567,  9312,  3581,   612],\n",
       "       [  306,   910,  6515, 21871,  9932],\n",
       "       [  765,   622,  1948, 17567, 76585]])"
      ]
     },
     "execution_count": 84,
     "metadata": {},
     "output_type": "execute_result"
    }
   ],
   "source": [
    "conf_mat = np.zeros((5,5), dtype=int)\n",
    "f = open(\"error_file\",\"w\")\n",
    "for i in range(0,len(dev_labels),1000):\n",
    "    fv = dev_feature_vector[i:i+1000]\n",
    "    y_pred = model.predict(fv)\n",
    "    conf_mat+= confusion_matrix(y_pred, dev_labels[i:i+1000])\n",
    "    \n",
    "    for p in range(1000):\n",
    "        if  abs(y_pred[p]-dev_labels[i+p])>2:\n",
    "            f.write(\"Gold: %.1f, Predicted: %.1f, Review: %s\\n\"%(dev_labels[i+p], y_pred[p], dev_data[i+p].replace('\\n','\\\\n')))\n",
    "conf_mat"
   ]
  },
  {
   "cell_type": "code",
   "execution_count": 85,
   "metadata": {},
   "outputs": [
    {
     "name": "stdout",
     "output_type": "stream",
     "text": [
      "Accuracy: \t 0.69343\n",
      "Cost: \t\t 114847\n"
     ]
    }
   ],
   "source": [
    "print(\"Accuracy: \\t\",conf_mat.trace()/len(dev_data))\n",
    "score = 0\n",
    "for i in range(5):\n",
    "    for j in range(5):\n",
    "        score+=conf_mat[i][j]*((i-j)**2)\n",
    "print(\"Cost: \\t\\t\",score)"
   ]
  },
  {
   "cell_type": "code",
   "execution_count": 86,
   "metadata": {},
   "outputs": [
    {
     "data": {
      "text/plain": [
       "<matplotlib.colorbar.Colorbar at 0x7fbe9e09ec88>"
      ]
     },
     "execution_count": 86,
     "metadata": {},
     "output_type": "execute_result"
    },
    {
     "data": {
      "image/png": "[encoded data removed]",
      "text/plain": [
       "<Figure size 432x288 with 2 Axes>"
      ]
     },
     "metadata": {
      "needs_background": "light"
     },
     "output_type": "display_data"
    }
   ],
   "source": [
    "fig = plt.figure()\n",
    "ax = fig.add_subplot(111)\n",
    "cax = ax.matshow(conf_mat)\n",
    "fig.colorbar(cax)"
   ]
  }
 ],
 "metadata": {
  "kernelspec": {
   "display_name": "Python 3",
   "language": "python",
   "name": "python3"
  },
  "language_info": {
   "codemirror_mode": {
    "name": "ipython",
    "version": 3
   },
   "file_extension": ".py",
   "mimetype": "text/x-python",
   "name": "python",
   "nbconvert_exporter": "python",
   "pygments_lexer": "ipython3",
   "version": "3.7.1"
  }
 },
 "nbformat": 4,
 "nbformat_minor": 2
}
