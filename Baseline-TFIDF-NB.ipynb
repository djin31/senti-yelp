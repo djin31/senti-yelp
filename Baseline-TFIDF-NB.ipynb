{
 "cells": [
  {
   "cell_type": "code",
   "execution_count": 1,
   "metadata": {},
   "outputs": [],
   "source": [
    "import nltk\n",
    "import numpy as np\n",
    "import json\n",
    "import pickle\n",
    "import timeit\n",
    "from sklearn.feature_extraction.text import CountVectorizer,TfidfVectorizer\n",
    "from sklearn.metrics import confusion_matrix\n",
    "import matplotlib.pyplot as plt"
   ]
  },
  {
   "cell_type": "code",
   "execution_count": 2,
   "metadata": {},
   "outputs": [],
   "source": [
    "devfile = \"../A1_Data/dev.json\"\n",
    "trainfile = \"../A1_Data/train.json\""
   ]
  },
  {
   "cell_type": "code",
   "execution_count": 3,
   "metadata": {},
   "outputs": [],
   "source": [
    "f = open(\"stopwords_list.dat\")\n",
    "stopwords = [word.strip().lower() for word in f.readlines()]\n",
    "f.close()"
   ]
  },
  {
   "cell_type": "markdown",
   "metadata": {},
   "source": [
    "### Training Phase"
   ]
  },
  {
   "cell_type": "code",
   "execution_count": 4,
   "metadata": {},
   "outputs": [],
   "source": [
    "train_labels = []\n",
    "f = open(trainfile,\"r\")\n",
    "while(True):\n",
    "    s = f.readline()\n",
    "    if (s==\"\"):\n",
    "        break\n",
    "    json_dump = json.loads(s)    \n",
    "    train_labels.append(json_dump[\"ratings\"])\n",
    "f.close()"
   ]
  },
  {
   "cell_type": "code",
   "execution_count": 5,
   "metadata": {},
   "outputs": [],
   "source": [
    "vectorizer = pickle.load(open(\"baseline_vectorizer.pickle\",\"rb\"))"
   ]
  },
  {
   "cell_type": "code",
   "execution_count": 6,
   "metadata": {},
   "outputs": [],
   "source": [
    "feature_vector = pickle.load(open(\"baseline_tfidf_train_vector.pickle\",\"rb\"))"
   ]
  },
  {
   "cell_type": "code",
   "execution_count": 7,
   "metadata": {},
   "outputs": [],
   "source": [
    "from sklearn.naive_bayes import MultinomialNB\n",
    "model = MultinomialNB()"
   ]
  },
  {
   "cell_type": "code",
   "execution_count": 8,
   "metadata": {},
   "outputs": [],
   "source": [
    "for i in range(0, len(train_labels),1000):\n",
    "    fv = feature_vector[i:i+1000].toarray()\n",
    "    model.partial_fit(fv, train_labels[i:i+1000], classes=np.unique(train_labels))"
   ]
  },
  {
   "cell_type": "code",
   "execution_count": 73,
   "metadata": {},
   "outputs": [],
   "source": [
    "pickle.dump(model,open(\"baseline_naive_bayes_model.pickle\", \"wb\"))"
   ]
  },
  {
   "cell_type": "markdown",
   "metadata": {},
   "source": [
    "### Some sanity checks"
   ]
  },
  {
   "cell_type": "code",
   "execution_count": 9,
   "metadata": {},
   "outputs": [
    {
     "data": {
      "text/plain": [
       "1.0"
      ]
     },
     "execution_count": 9,
     "metadata": {},
     "output_type": "execute_result"
    }
   ],
   "source": [
    "sanity_check = \"Dishonest, untrustworthy, flaw-hiding dealership that is an embarrassment to the brand it bears\"\n",
    "check_vector = vectorizer.transform([sanity_check]).toarray()\n",
    "model.predict(check_vector)[0]"
   ]
  },
  {
   "cell_type": "code",
   "execution_count": 10,
   "metadata": {},
   "outputs": [
    {
     "data": {
      "text/plain": [
       "5.0"
      ]
     },
     "execution_count": 10,
     "metadata": {},
     "output_type": "execute_result"
    }
   ],
   "source": [
    "sanity_check = \"Excellent service. The staff is so friendly and always  willing to have conversations with their clients.\"\n",
    "check_vector = vectorizer.transform([sanity_check]).toarray()\n",
    "model.predict(check_vector)[0]"
   ]
  },
  {
   "cell_type": "markdown",
   "metadata": {},
   "source": [
    "### Validation phase"
   ]
  },
  {
   "cell_type": "code",
   "execution_count": 11,
   "metadata": {},
   "outputs": [],
   "source": [
    "dev_data = []\n",
    "dev_labels = []\n",
    "f = open(devfile,\"r\")\n",
    "while(True):\n",
    "    s = f.readline()\n",
    "    if (s==\"\"):\n",
    "        break\n",
    "    json_dump = json.loads(s)    \n",
    "    dev_data.append(json_dump[\"review\"])\n",
    "    dev_labels.append(json_dump[\"ratings\"])\n",
    "f.close()"
   ]
  },
  {
   "cell_type": "code",
   "execution_count": 12,
   "metadata": {},
   "outputs": [],
   "source": [
    "dev_feature_vector = pickle.load(open(\"baseline_tfidf_dev_vector.pickle\",\"rb\"))"
   ]
  },
  {
   "cell_type": "code",
   "execution_count": 13,
   "metadata": {},
   "outputs": [
    {
     "data": {
      "text/plain": [
       "array([[14838,  2138,   694,   200,   186],\n",
       "       [    0,     2,     1,     0,     0],\n",
       "       [    5,    11,    16,    11,    11],\n",
       "       [  735,  1861,  3500,  3015,   821],\n",
       "       [14211, 12127, 17905, 40780, 86932]])"
      ]
     },
     "execution_count": 13,
     "metadata": {},
     "output_type": "execute_result"
    }
   ],
   "source": [
    "conf_mat = np.zeros((5,5), dtype=int)\n",
    "f = open(\"error_file\",\"w\")\n",
    "for i in range(0,int(len(dev_data)),1000):\n",
    "    fv = dev_feature_vector[i:i+1000].toarray()\n",
    "    y_pred = model.predict(fv)\n",
    "    conf_mat+= confusion_matrix(y_pred, dev_labels[i:i+1000])\n",
    "    \n",
    "    for p in range(1000):\n",
    "        if  abs(y_pred[p]-dev_labels[i+p])>2:\n",
    "            f.write(\"Gold: %.1f, Predicted: %.1f, Review: %s\\n\"%(dev_labels[i+p], y_pred[p], dev_data[i+p].replace('\\n','\\\\n')))\n",
    "conf_mat"
   ]
  },
  {
   "cell_type": "code",
   "execution_count": 14,
   "metadata": {},
   "outputs": [
    {
     "name": "stdout",
     "output_type": "stream",
     "text": [
      "Accuracy: \t 0.524015\n",
      "Cost: \t\t 477076\n"
     ]
    }
   ],
   "source": [
    "print(\"Accuracy: \\t\",conf_mat.trace()/len(dev_data))\n",
    "score = 0\n",
    "for i in range(5):\n",
    "    for j in range(5):\n",
    "        score+=conf_mat[i][j]*((i-j)**2)\n",
    "print(\"Cost: \\t\\t\",score)"
   ]
  },
  {
   "cell_type": "code",
   "execution_count": 22,
   "metadata": {},
   "outputs": [
    {
     "data": {
      "image/png": "[encoded data removed]",
      "text/plain": [
       "<Figure size 432x288 with 2 Axes>"
      ]
     },
     "metadata": {
      "needs_background": "light"
     },
     "output_type": "display_data"
    }
   ],
   "source": [
    "fig = plt.figure()\n",
    "ax = fig.add_subplot(111)\n",
    "cax = ax.matshow(conf_mat)\n",
    "fig.colorbar(cax)\n",
    "plt.savefig(\"Conf_Mat_Baseline.jpg\")"
   ]
  },
  {
   "cell_type": "code",
   "execution_count": null,
   "metadata": {},
   "outputs": [],
   "source": []
  }
 ],
 "metadata": {
  "kernelspec": {
   "display_name": "Python 3",
   "language": "python",
   "name": "python3"
  },
  "language_info": {
   "codemirror_mode": {
    "name": "ipython",
    "version": 3
   },
   "file_extension": ".py",
   "mimetype": "text/x-python",
   "name": "python",
   "nbconvert_exporter": "python",
   "pygments_lexer": "ipython3",
   "version": "3.7.1"
  }
 },
 "nbformat": 4,
 "nbformat_minor": 2
}
